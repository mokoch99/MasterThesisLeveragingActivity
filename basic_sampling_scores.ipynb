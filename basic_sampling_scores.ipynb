version https://git-lfs.github.com/spec/v1
oid sha256:f39f611f7f909dbfa19e0837d785d2abd9861ff97212f2bd2ff1c6c180c7f9aa
size 171146
