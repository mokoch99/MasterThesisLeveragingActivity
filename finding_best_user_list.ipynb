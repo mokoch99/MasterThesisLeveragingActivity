{
 "cells": [
  {
   "cell_type": "markdown",
   "source": [
    "This notebook was used to find the best-performing user list."
   ],
   "metadata": {
    "collapsed": false
   }
  },
  {
   "cell_type": "code",
   "execution_count": 1,
   "outputs": [],
   "source": [
    "import pandas as pd\n",
    "\n",
    "fs_results1 = pd.read_csv('tuning_results.csv')\n",
    "fs_results2 = pd.read_csv('tuning_results2.csv')\n",
    "filtered_results_new = pd.read_csv('tuning_results_new_split.csv')\n",
    "\n",
    "fu = pd.read_csv('filtered_user_lists.csv')\n",
    "fu_tbt = pd.read_csv('filtered_user_lists_only_tpd_tbt.csv')\n",
    "fu_maxtime = pd.read_csv('filtered_user_lists_only_tpd_maxtime.csv')"
   ],
   "metadata": {
    "collapsed": false
   }
  },
  {
   "cell_type": "code",
   "execution_count": 2,
   "outputs": [
    {
     "data": {
      "text/plain": "771    0.843750\n800    0.828125\n834    0.820312\n791    0.789062\n825    0.781250\n         ...   \n3      0.475207\n964    0.471074\n847    0.462810\n841    0.462810\n963    0.458678\nName: result, Length: 1030, dtype: float64"
     },
     "execution_count": 2,
     "metadata": {},
     "output_type": "execute_result"
    }
   ],
   "source": [
    "filtered_results_new['result'].sort_values(ascending=False)"
   ],
   "metadata": {
    "collapsed": false
   }
  },
  {
   "cell_type": "code",
   "execution_count": 3,
   "outputs": [
    {
     "data": {
      "text/plain": "549    0.730290\n163    0.716667\n76     0.716667\n460    0.710938\n450    0.710938\n         ...   \n418    0.081081\n335    0.081081\n589    0.046667\n610    0.046667\n599    0.026667\nName: result, Length: 684, dtype: float64"
     },
     "execution_count": 3,
     "metadata": {},
     "output_type": "execute_result"
    }
   ],
   "source": [
    "fs_results2['result'].sort_values(ascending=False)"
   ],
   "metadata": {
    "collapsed": false
   }
  },
  {
   "cell_type": "code",
   "execution_count": 4,
   "outputs": [],
   "source": [
    "tmp_list = filtered_results_new.iloc[771].user_list"
   ],
   "metadata": {
    "collapsed": false
   }
  },
  {
   "cell_type": "code",
   "execution_count": 5,
   "outputs": [
    {
     "data": {
      "text/plain": "1030"
     },
     "execution_count": 5,
     "metadata": {},
     "output_type": "execute_result"
    }
   ],
   "source": [
    "filtered_users = pd.concat([fu, fu_tbt, fu_maxtime], ignore_index=True)\n",
    "len(filtered_users)"
   ],
   "metadata": {
    "collapsed": false
   }
  },
  {
   "cell_type": "code",
   "execution_count": 6,
   "outputs": [
    {
     "data": {
      "text/plain": "840"
     },
     "execution_count": 6,
     "metadata": {},
     "output_type": "execute_result"
    }
   ],
   "source": [
    "len(fu)"
   ],
   "metadata": {
    "collapsed": false
   }
  },
  {
   "cell_type": "code",
   "execution_count": 7,
   "outputs": [
    {
     "data": {
      "text/plain": "120"
     },
     "execution_count": 7,
     "metadata": {},
     "output_type": "execute_result"
    }
   ],
   "source": [
    "len(fu_tbt)"
   ],
   "metadata": {
    "collapsed": false
   }
  },
  {
   "cell_type": "code",
   "execution_count": 8,
   "outputs": [
    {
     "data": {
      "text/plain": "70"
     },
     "execution_count": 8,
     "metadata": {},
     "output_type": "execute_result"
    }
   ],
   "source": [
    "len(fu_maxtime)"
   ],
   "metadata": {
    "collapsed": false
   }
  },
  {
   "cell_type": "code",
   "execution_count": 9,
   "outputs": [
    {
     "data": {
      "text/plain": "     Unnamed: 0  min_tpd  max_days_bt  min_days_active  \\\n767         767       10            1              360   \n768         768       10            2               30   \n769         769       10            2               60   \n770         770       10            2               90   \n771         771       10            2              120   \n..          ...      ...          ...              ...   \n835         835       10            7              240   \n836         836       10            7              270   \n837         837       10            7              300   \n838         838       10            7              330   \n839         839       10            7              360   \n\n                                             user_list  \n767  ['uR0036', 'uR0129', 'uR0134', 'uR0951', 'uR10...  \n768  ['uR0036', 'uR0129', 'uR0134', 'uR0951', 'uR10...  \n769  ['uR0036', 'uR0129', 'uR0134', 'uR0951', 'uR10...  \n770  ['uR0036', 'uR0129', 'uR0134', 'uR0951', 'uR10...  \n771  ['uR0036', 'uR0129', 'uR0134', 'uR0951', 'uR10...  \n..                                                 ...  \n835  ['uR0036', 'uR0129', 'uR0134', 'uR0951', 'uR10...  \n836  ['uR0036', 'uR0129', 'uR0134', 'uR0951', 'uR10...  \n837  ['uR0036', 'uR0129', 'uR0134', 'uR0951', 'uR10...  \n838  ['uR0036', 'uR0129', 'uR0134', 'uR0951', 'uR10...  \n839  ['uR0036', 'uR0129', 'uR0134', 'uR0951', 'uR10...  \n\n[73 rows x 5 columns]",
      "text/html": "<div>\n<style scoped>\n    .dataframe tbody tr th:only-of-type {\n        vertical-align: middle;\n    }\n\n    .dataframe tbody tr th {\n        vertical-align: top;\n    }\n\n    .dataframe thead th {\n        text-align: right;\n    }\n</style>\n<table border=\"1\" class=\"dataframe\">\n  <thead>\n    <tr style=\"text-align: right;\">\n      <th></th>\n      <th>Unnamed: 0</th>\n      <th>min_tpd</th>\n      <th>max_days_bt</th>\n      <th>min_days_active</th>\n      <th>user_list</th>\n    </tr>\n  </thead>\n  <tbody>\n    <tr>\n      <th>767</th>\n      <td>767</td>\n      <td>10</td>\n      <td>1</td>\n      <td>360</td>\n      <td>['uR0036', 'uR0129', 'uR0134', 'uR0951', 'uR10...</td>\n    </tr>\n    <tr>\n      <th>768</th>\n      <td>768</td>\n      <td>10</td>\n      <td>2</td>\n      <td>30</td>\n      <td>['uR0036', 'uR0129', 'uR0134', 'uR0951', 'uR10...</td>\n    </tr>\n    <tr>\n      <th>769</th>\n      <td>769</td>\n      <td>10</td>\n      <td>2</td>\n      <td>60</td>\n      <td>['uR0036', 'uR0129', 'uR0134', 'uR0951', 'uR10...</td>\n    </tr>\n    <tr>\n      <th>770</th>\n      <td>770</td>\n      <td>10</td>\n      <td>2</td>\n      <td>90</td>\n      <td>['uR0036', 'uR0129', 'uR0134', 'uR0951', 'uR10...</td>\n    </tr>\n    <tr>\n      <th>771</th>\n      <td>771</td>\n      <td>10</td>\n      <td>2</td>\n      <td>120</td>\n      <td>['uR0036', 'uR0129', 'uR0134', 'uR0951', 'uR10...</td>\n    </tr>\n    <tr>\n      <th>...</th>\n      <td>...</td>\n      <td>...</td>\n      <td>...</td>\n      <td>...</td>\n      <td>...</td>\n    </tr>\n    <tr>\n      <th>835</th>\n      <td>835</td>\n      <td>10</td>\n      <td>7</td>\n      <td>240</td>\n      <td>['uR0036', 'uR0129', 'uR0134', 'uR0951', 'uR10...</td>\n    </tr>\n    <tr>\n      <th>836</th>\n      <td>836</td>\n      <td>10</td>\n      <td>7</td>\n      <td>270</td>\n      <td>['uR0036', 'uR0129', 'uR0134', 'uR0951', 'uR10...</td>\n    </tr>\n    <tr>\n      <th>837</th>\n      <td>837</td>\n      <td>10</td>\n      <td>7</td>\n      <td>300</td>\n      <td>['uR0036', 'uR0129', 'uR0134', 'uR0951', 'uR10...</td>\n    </tr>\n    <tr>\n      <th>838</th>\n      <td>838</td>\n      <td>10</td>\n      <td>7</td>\n      <td>330</td>\n      <td>['uR0036', 'uR0129', 'uR0134', 'uR0951', 'uR10...</td>\n    </tr>\n    <tr>\n      <th>839</th>\n      <td>839</td>\n      <td>10</td>\n      <td>7</td>\n      <td>360</td>\n      <td>['uR0036', 'uR0129', 'uR0134', 'uR0951', 'uR10...</td>\n    </tr>\n  </tbody>\n</table>\n<p>73 rows × 5 columns</p>\n</div>"
     },
     "execution_count": 9,
     "metadata": {},
     "output_type": "execute_result"
    }
   ],
   "source": [
    "filtered_users[filtered_users['user_list'] == tmp_list]"
   ],
   "metadata": {
    "collapsed": false
   }
  },
  {
   "cell_type": "code",
   "execution_count": 10,
   "outputs": [
    {
     "data": {
      "text/plain": "Unnamed: 0                                                       767\nmin_tpd                                                           10\nmax_days_bt                                                        1\nmin_days_active                                                  360\nuser_list          ['uR0036', 'uR0129', 'uR0134', 'uR0951', 'uR10...\nName: 767, dtype: object"
     },
     "execution_count": 10,
     "metadata": {},
     "output_type": "execute_result"
    }
   ],
   "source": [
    "filtered_users.iloc[767]"
   ],
   "metadata": {
    "collapsed": false
   }
  },
  {
   "cell_type": "code",
   "execution_count": 11,
   "outputs": [
    {
     "data": {
      "text/plain": "Unnamed: 0                                                        54\nmin_tpd                                                            5\nmax_days_bt                                                        1\nmin_days_active                                                  210\nuser_list          ['uR0002', 'uR0011', 'uR0021', 'uR0032', 'uR00...\nName: 894, dtype: object"
     },
     "execution_count": 11,
     "metadata": {},
     "output_type": "execute_result"
    }
   ],
   "source": [
    "filtered_users.iloc[894]"
   ],
   "metadata": {
    "collapsed": false
   }
  },
  {
   "cell_type": "code",
   "execution_count": 12,
   "outputs": [
    {
     "data": {
      "text/plain": "\"['uR0036', 'uR0129', 'uR0134', 'uR0951', 'uR1019', 'uR1037', 'uR1207', 'uR1255', 'uR1540', 'uR1547', 'uR1571', 'uR1770', 'uR2446', 'uR2565', 'uR2743', 'uR3017', 'uR3064', 'uR3278', 'uR3516', 'uR3928', 'uR4141', 'uR4369', 'uR4501', 'uR4747', 'uR4925', 'uR5429', 'uR5532', 'uR5560', 'uR5907', 'uR6011', 'uR6018', 'uR6092', 'uR6218', 'uR6763', 'uR6777', 'uR6943', 'uR6967']\""
     },
     "execution_count": 12,
     "metadata": {},
     "output_type": "execute_result"
    }
   ],
   "source": [
    "tmp_list"
   ],
   "metadata": {
    "collapsed": false
   }
  },
  {
   "cell_type": "code",
   "execution_count": 13,
   "outputs": [
    {
     "data": {
      "text/plain": "     Unnamed: 0  min_tpd  max_days_bt  min_days_active  \\\n767         767       10            1              360   \n768         768       10            2               30   \n769         769       10            2               60   \n770         770       10            2               90   \n771         771       10            2              120   \n..          ...      ...          ...              ...   \n835         835       10            7              240   \n836         836       10            7              270   \n837         837       10            7              300   \n838         838       10            7              330   \n839         839       10            7              360   \n\n                                             user_list  \n767  ['uR0036', 'uR0129', 'uR0134', 'uR0951', 'uR10...  \n768  ['uR0036', 'uR0129', 'uR0134', 'uR0951', 'uR10...  \n769  ['uR0036', 'uR0129', 'uR0134', 'uR0951', 'uR10...  \n770  ['uR0036', 'uR0129', 'uR0134', 'uR0951', 'uR10...  \n771  ['uR0036', 'uR0129', 'uR0134', 'uR0951', 'uR10...  \n..                                                 ...  \n835  ['uR0036', 'uR0129', 'uR0134', 'uR0951', 'uR10...  \n836  ['uR0036', 'uR0129', 'uR0134', 'uR0951', 'uR10...  \n837  ['uR0036', 'uR0129', 'uR0134', 'uR0951', 'uR10...  \n838  ['uR0036', 'uR0129', 'uR0134', 'uR0951', 'uR10...  \n839  ['uR0036', 'uR0129', 'uR0134', 'uR0951', 'uR10...  \n\n[73 rows x 5 columns]",
      "text/html": "<div>\n<style scoped>\n    .dataframe tbody tr th:only-of-type {\n        vertical-align: middle;\n    }\n\n    .dataframe tbody tr th {\n        vertical-align: top;\n    }\n\n    .dataframe thead th {\n        text-align: right;\n    }\n</style>\n<table border=\"1\" class=\"dataframe\">\n  <thead>\n    <tr style=\"text-align: right;\">\n      <th></th>\n      <th>Unnamed: 0</th>\n      <th>min_tpd</th>\n      <th>max_days_bt</th>\n      <th>min_days_active</th>\n      <th>user_list</th>\n    </tr>\n  </thead>\n  <tbody>\n    <tr>\n      <th>767</th>\n      <td>767</td>\n      <td>10</td>\n      <td>1</td>\n      <td>360</td>\n      <td>['uR0036', 'uR0129', 'uR0134', 'uR0951', 'uR10...</td>\n    </tr>\n    <tr>\n      <th>768</th>\n      <td>768</td>\n      <td>10</td>\n      <td>2</td>\n      <td>30</td>\n      <td>['uR0036', 'uR0129', 'uR0134', 'uR0951', 'uR10...</td>\n    </tr>\n    <tr>\n      <th>769</th>\n      <td>769</td>\n      <td>10</td>\n      <td>2</td>\n      <td>60</td>\n      <td>['uR0036', 'uR0129', 'uR0134', 'uR0951', 'uR10...</td>\n    </tr>\n    <tr>\n      <th>770</th>\n      <td>770</td>\n      <td>10</td>\n      <td>2</td>\n      <td>90</td>\n      <td>['uR0036', 'uR0129', 'uR0134', 'uR0951', 'uR10...</td>\n    </tr>\n    <tr>\n      <th>771</th>\n      <td>771</td>\n      <td>10</td>\n      <td>2</td>\n      <td>120</td>\n      <td>['uR0036', 'uR0129', 'uR0134', 'uR0951', 'uR10...</td>\n    </tr>\n    <tr>\n      <th>...</th>\n      <td>...</td>\n      <td>...</td>\n      <td>...</td>\n      <td>...</td>\n      <td>...</td>\n    </tr>\n    <tr>\n      <th>835</th>\n      <td>835</td>\n      <td>10</td>\n      <td>7</td>\n      <td>240</td>\n      <td>['uR0036', 'uR0129', 'uR0134', 'uR0951', 'uR10...</td>\n    </tr>\n    <tr>\n      <th>836</th>\n      <td>836</td>\n      <td>10</td>\n      <td>7</td>\n      <td>270</td>\n      <td>['uR0036', 'uR0129', 'uR0134', 'uR0951', 'uR10...</td>\n    </tr>\n    <tr>\n      <th>837</th>\n      <td>837</td>\n      <td>10</td>\n      <td>7</td>\n      <td>300</td>\n      <td>['uR0036', 'uR0129', 'uR0134', 'uR0951', 'uR10...</td>\n    </tr>\n    <tr>\n      <th>838</th>\n      <td>838</td>\n      <td>10</td>\n      <td>7</td>\n      <td>330</td>\n      <td>['uR0036', 'uR0129', 'uR0134', 'uR0951', 'uR10...</td>\n    </tr>\n    <tr>\n      <th>839</th>\n      <td>839</td>\n      <td>10</td>\n      <td>7</td>\n      <td>360</td>\n      <td>['uR0036', 'uR0129', 'uR0134', 'uR0951', 'uR10...</td>\n    </tr>\n  </tbody>\n</table>\n<p>73 rows × 5 columns</p>\n</div>"
     },
     "execution_count": 13,
     "metadata": {},
     "output_type": "execute_result"
    }
   ],
   "source": [
    "filtered_users[filtered_users['user_list'] == tmp_list]"
   ],
   "metadata": {
    "collapsed": false
   }
  },
  {
   "cell_type": "code",
   "execution_count": 21,
   "outputs": [
    {
     "data": {
      "text/plain": "37"
     },
     "execution_count": 21,
     "metadata": {},
     "output_type": "execute_result"
    }
   ],
   "source": [
    "#tmp = filtered_users[filtered_users['user_list'] == tmp_list]\n",
    "min = 10000\n",
    "for i in range(len(filtered_users)):\n",
    "    tmpr = filtered_users.iloc[i]\n",
    "    tmp_min = len(eval(tmpr['user_list']))\n",
    "    if tmp_min < min:\n",
    "        min = tmp_min\n",
    "min"
   ],
   "metadata": {
    "collapsed": false
   }
  },
  {
   "cell_type": "code",
   "execution_count": null,
   "outputs": [],
   "source": [],
   "metadata": {
    "collapsed": false
   }
  }
 ],
 "metadata": {
  "kernelspec": {
   "display_name": "Python 3",
   "language": "python",
   "name": "python3"
  },
  "language_info": {
   "codemirror_mode": {
    "name": "ipython",
    "version": 2
   },
   "file_extension": ".py",
   "mimetype": "text/x-python",
   "name": "python",
   "nbconvert_exporter": "python",
   "pygments_lexer": "ipython2",
   "version": "2.7.6"
  }
 },
 "nbformat": 4,
 "nbformat_minor": 0
}
