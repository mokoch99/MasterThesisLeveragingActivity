{
 "cells": [
  {
   "cell_type": "code",
   "execution_count": 2,
   "outputs": [],
   "source": [
    "import sys\n",
    "\n",
    "import matplotlib.pyplot as plt\n",
    "import numpy as np\n",
    "import pandas as pd\n",
    "import sklearn.model_selection\n",
    "import sktime.datatypes\n",
    "from sklearn.linear_model import RidgeClassifierCV\n",
    "from sklearn.pipeline import make_pipeline\n",
    "\n",
    "from sktime.datasets import load_arrow_head  # univariate dataset\n",
    "from sktime.datasets import load_basic_motions  # multivariate dataset\n",
    "from sktime.transformations.panel.rocket import Rocket\n",
    "from sktime.forecasting.model_selection import temporal_train_test_split\n",
    "from sklearn import preprocessing"
   ],
   "metadata": {
    "collapsed": false
   }
  },
  {
   "cell_type": "markdown",
   "source": [
    "# What I want to do\n",
    "- Find the distribution of number of tweets per day (activity) of each individual from the sample cohort\n",
    "- undersample sample cohort to match sample size from depressed cohort"
   ],
   "metadata": {
    "collapsed": false
   }
  },
  {
   "cell_type": "code",
   "execution_count": 3,
   "outputs": [
    {
     "name": "stdout",
     "output_type": "stream",
     "text": [
      "603\n"
     ]
    }
   ],
   "source": [
    "#depression tweets\n",
    "dt = pd.read_csv(\"data/depression_tweets.tsv\", sep=\"\\t\", index_col=\"tweet_id\", parse_dates=[2])\n",
    "#dt[\"created_at\"] = pd.to_datetime(dt[\"created_at\"])\n",
    "n_depression = len(dt['user_id'].unique())\n",
    "print(n_depression)\n",
    "\n",
    "#sample tweets\n",
    "st = pd.read_csv(\"data/sample_tweets.tsv\", sep=\"\\t\", index_col=\"tweet_id\", parse_dates=[2])\n",
    "#st[\"created_at\"] = pd.to_datetime(st[\"created_at\"])\n"
   ],
   "metadata": {
    "collapsed": false
   }
  },
  {
   "cell_type": "code",
   "execution_count": 4,
   "outputs": [],
   "source": [
    "st.set_index('created_at', inplace=True)"
   ],
   "metadata": {
    "collapsed": false
   }
  },
  {
   "cell_type": "code",
   "execution_count": 5,
   "outputs": [],
   "source": [
    "avgs = st.groupby(st.index.date).count()"
   ],
   "metadata": {
    "collapsed": false
   }
  },
  {
   "cell_type": "code",
   "execution_count": 12,
   "outputs": [
    {
     "data": {
      "text/plain": "3735"
     },
     "execution_count": 12,
     "metadata": {},
     "output_type": "execute_result"
    }
   ],
   "source": [
    "len(st.groupby(st.index.date).nunique())"
   ],
   "metadata": {
    "collapsed": false
   }
  },
  {
   "cell_type": "markdown",
   "source": [
    "get the avg daily activity of each user"
   ],
   "metadata": {
    "collapsed": false
   }
  },
  {
   "cell_type": "code",
   "execution_count": 6,
   "outputs": [],
   "source": [
    "average_pairs = {}\n",
    "averages = []\n",
    "for user in st.user_id.unique():\n",
    "    tmp = st[st['user_id'] == user]\n",
    "    tweets_per_day = tmp.groupby(tmp.index.date).count()\n",
    "    n_days = len(tweets_per_day.index.unique())\n",
    "    average_pairs.update({''+user+'': ''+str(round(tweets_per_day.user_id.sum(axis=0)/n_days))+''})\n",
    "    averages.append(round(tweets_per_day.user_id.sum(axis=0)/n_days))"
   ],
   "metadata": {
    "collapsed": false
   }
  },
  {
   "cell_type": "code",
   "execution_count": 97,
   "outputs": [
    {
     "data": {
      "text/plain": "<function matplotlib.pyplot.show(close=None, block=None)>"
     },
     "execution_count": 97,
     "metadata": {},
     "output_type": "execute_result"
    },
    {
     "data": {
      "text/plain": "<Figure size 640x480 with 1 Axes>",
      "image/png": "[encoded data removed]"
     },
     "metadata": {},
     "output_type": "display_data"
    }
   ],
   "source": [
    "import matplotlib.pyplot as plt\n",
    "\n",
    "plt.hist(averages, density=True, bins=120)\n",
    "plt.show"
   ],
   "metadata": {
    "collapsed": false
   }
  },
  {
   "cell_type": "code",
   "execution_count": 98,
   "outputs": [],
   "source": [
    "df_averages = pd.DataFrame(dict([(key, pd.Series(value)) for key, value in average_pairs.items()])).transpose()"
   ],
   "metadata": {
    "collapsed": false
   }
  },
  {
   "cell_type": "code",
   "execution_count": 99,
   "outputs": [],
   "source": [
    "average_dist = {}\n",
    "for avg in df_averages[0].unique():\n",
    "    tmp_dist = float((df_averages[df_averages[0]==avg].count()/len(df_averages)).iloc[0]) # because otherwise could cause type error in the future\n",
    "    average_dist.update({str(avg): str(tmp_dist)})"
   ],
   "metadata": {
    "collapsed": false
   }
  },
  {
   "cell_type": "code",
   "execution_count": 100,
   "outputs": [
    {
     "data": {
      "text/plain": "     tweets per day  percentage\n3                 1    0.229011\n0                 2    0.212546\n1                 3    0.123146\n4                 4    0.082052\n11                5    0.051027\n..              ...         ...\n36              348    0.000136\n118             356    0.000136\n110             624    0.000136\n115             892    0.000136\n8              1060    0.000136\n\n[120 rows x 2 columns]",
      "text/html": "<div>\n<style scoped>\n    .dataframe tbody tr th:only-of-type {\n        vertical-align: middle;\n    }\n\n    .dataframe tbody tr th {\n        vertical-align: top;\n    }\n\n    .dataframe thead th {\n        text-align: right;\n    }\n</style>\n<table border=\"1\" class=\"dataframe\">\n  <thead>\n    <tr style=\"text-align: right;\">\n      <th></th>\n      <th>tweets per day</th>\n      <th>percentage</th>\n    </tr>\n  </thead>\n  <tbody>\n    <tr>\n      <th>3</th>\n      <td>1</td>\n      <td>0.229011</td>\n    </tr>\n    <tr>\n      <th>0</th>\n      <td>2</td>\n      <td>0.212546</td>\n    </tr>\n    <tr>\n      <th>1</th>\n      <td>3</td>\n      <td>0.123146</td>\n    </tr>\n    <tr>\n      <th>4</th>\n      <td>4</td>\n      <td>0.082052</td>\n    </tr>\n    <tr>\n      <th>11</th>\n      <td>5</td>\n      <td>0.051027</td>\n    </tr>\n    <tr>\n      <th>...</th>\n      <td>...</td>\n      <td>...</td>\n    </tr>\n    <tr>\n      <th>36</th>\n      <td>348</td>\n      <td>0.000136</td>\n    </tr>\n    <tr>\n      <th>118</th>\n      <td>356</td>\n      <td>0.000136</td>\n    </tr>\n    <tr>\n      <th>110</th>\n      <td>624</td>\n      <td>0.000136</td>\n    </tr>\n    <tr>\n      <th>115</th>\n      <td>892</td>\n      <td>0.000136</td>\n    </tr>\n    <tr>\n      <th>8</th>\n      <td>1060</td>\n      <td>0.000136</td>\n    </tr>\n  </tbody>\n</table>\n<p>120 rows × 2 columns</p>\n</div>"
     },
     "execution_count": 100,
     "metadata": {},
     "output_type": "execute_result"
    }
   ],
   "source": [
    "dist_df = pd.DataFrame(average_dist.items(), columns=['tweets per day', 'percentage'])\n",
    "dist_df = dist_df.astype({'tweets per day': 'int32'})\n",
    "dist_df = dist_df.astype({'percentage': 'float'})\n",
    "dist_df = dist_df.sort_values(by=['tweets per day'])\n",
    "dist_df"
   ],
   "metadata": {
    "collapsed": false
   }
  },
  {
   "cell_type": "code",
   "execution_count": 7,
   "outputs": [
    {
     "data": {
      "text/plain": "     user id  tweets per day\n1330  uR1330               1\n5065  uR5065               1\n1259  uR1259               1\n5069  uR5069               1\n3405  uR3405               1\n...      ...             ...\n259   uR0259             348\n7207  uR7207             356\n5920  uR5920             624\n6361  uR6361             892\n16    uR0016            1060\n\n[7349 rows x 2 columns]",
      "text/html": "<div>\n<style scoped>\n    .dataframe tbody tr th:only-of-type {\n        vertical-align: middle;\n    }\n\n    .dataframe tbody tr th {\n        vertical-align: top;\n    }\n\n    .dataframe thead th {\n        text-align: right;\n    }\n</style>\n<table border=\"1\" class=\"dataframe\">\n  <thead>\n    <tr style=\"text-align: right;\">\n      <th></th>\n      <th>user id</th>\n      <th>tweets per day</th>\n    </tr>\n  </thead>\n  <tbody>\n    <tr>\n      <th>1330</th>\n      <td>uR1330</td>\n      <td>1</td>\n    </tr>\n    <tr>\n      <th>5065</th>\n      <td>uR5065</td>\n      <td>1</td>\n    </tr>\n    <tr>\n      <th>1259</th>\n      <td>uR1259</td>\n      <td>1</td>\n    </tr>\n    <tr>\n      <th>5069</th>\n      <td>uR5069</td>\n      <td>1</td>\n    </tr>\n    <tr>\n      <th>3405</th>\n      <td>uR3405</td>\n      <td>1</td>\n    </tr>\n    <tr>\n      <th>...</th>\n      <td>...</td>\n      <td>...</td>\n    </tr>\n    <tr>\n      <th>259</th>\n      <td>uR0259</td>\n      <td>348</td>\n    </tr>\n    <tr>\n      <th>7207</th>\n      <td>uR7207</td>\n      <td>356</td>\n    </tr>\n    <tr>\n      <th>5920</th>\n      <td>uR5920</td>\n      <td>624</td>\n    </tr>\n    <tr>\n      <th>6361</th>\n      <td>uR6361</td>\n      <td>892</td>\n    </tr>\n    <tr>\n      <th>16</th>\n      <td>uR0016</td>\n      <td>1060</td>\n    </tr>\n  </tbody>\n</table>\n<p>7349 rows × 2 columns</p>\n</div>"
     },
     "execution_count": 7,
     "metadata": {},
     "output_type": "execute_result"
    }
   ],
   "source": [
    "pairs_df = pd.DataFrame(average_pairs.items(), columns=['user id', 'tweets per day'])\n",
    "pairs_df = pairs_df.astype({'tweets per day': 'int32'})\n",
    "pairs_df = pairs_df.sort_values(by=['tweets per day'])\n",
    "pairs_df"
   ],
   "metadata": {
    "collapsed": false
   }
  },
  {
   "cell_type": "code",
   "execution_count": 8,
   "outputs": [],
   "source": [
    "pairs_df.to_csv('pairs_tpd_users.csv')"
   ],
   "metadata": {
    "collapsed": false
   }
  },
  {
   "cell_type": "code",
   "execution_count": 103,
   "outputs": [
    {
     "data": {
      "text/plain": "    user id tweets per day\n0    uR5971              1\n1    uR1442              1\n2    uR6316              1\n3    uR5041              1\n4    uR4991              1\n..      ...            ...\n561  uR7312             31\n562  uR1161             32\n563  uR3451             33\n564  uR1549             33\n565  uR0296             34\n\n[566 rows x 2 columns]",
      "text/html": "<div>\n<style scoped>\n    .dataframe tbody tr th:only-of-type {\n        vertical-align: middle;\n    }\n\n    .dataframe tbody tr th {\n        vertical-align: top;\n    }\n\n    .dataframe thead th {\n        text-align: right;\n    }\n</style>\n<table border=\"1\" class=\"dataframe\">\n  <thead>\n    <tr style=\"text-align: right;\">\n      <th></th>\n      <th>user id</th>\n      <th>tweets per day</th>\n    </tr>\n  </thead>\n  <tbody>\n    <tr>\n      <th>0</th>\n      <td>uR5971</td>\n      <td>1</td>\n    </tr>\n    <tr>\n      <th>1</th>\n      <td>uR1442</td>\n      <td>1</td>\n    </tr>\n    <tr>\n      <th>2</th>\n      <td>uR6316</td>\n      <td>1</td>\n    </tr>\n    <tr>\n      <th>3</th>\n      <td>uR5041</td>\n      <td>1</td>\n    </tr>\n    <tr>\n      <th>4</th>\n      <td>uR4991</td>\n      <td>1</td>\n    </tr>\n    <tr>\n      <th>...</th>\n      <td>...</td>\n      <td>...</td>\n    </tr>\n    <tr>\n      <th>561</th>\n      <td>uR7312</td>\n      <td>31</td>\n    </tr>\n    <tr>\n      <th>562</th>\n      <td>uR1161</td>\n      <td>32</td>\n    </tr>\n    <tr>\n      <th>563</th>\n      <td>uR3451</td>\n      <td>33</td>\n    </tr>\n    <tr>\n      <th>564</th>\n      <td>uR1549</td>\n      <td>33</td>\n    </tr>\n    <tr>\n      <th>565</th>\n      <td>uR0296</td>\n      <td>34</td>\n    </tr>\n  </tbody>\n</table>\n<p>566 rows × 2 columns</p>\n</div>"
     },
     "execution_count": 103,
     "metadata": {},
     "output_type": "execute_result"
    }
   ],
   "source": [
    "samples = pd.DataFrame(columns=['user id', 'tweets per day'])\n",
    "for tpd in pairs_df['tweets per day'].unique():\n",
    "    tmp_df = pairs_df[pairs_df['tweets per day']==tpd]\n",
    "    frac = float(dist_df.loc[dist_df['tweets per day']==tpd]['percentage'].iloc[0])\n",
    "    sampled_tmp_df = tmp_df.sample(n=int(n_depression*frac), random_state=42) # use n=int(n_depression*frac) to get the same number as users as in the depressed cohort with distribution of overall rnd sample cohort\n",
    "    samples = samples._append(sampled_tmp_df, ignore_index=True)\n",
    "samples"
   ],
   "metadata": {
    "collapsed": false
   }
  },
  {
   "cell_type": "markdown",
   "source": [
    "### Fill remaining number of needed samples with 1 entity of each not yet present class starting with highest percentage of occurrence"
   ],
   "metadata": {
    "collapsed": false
   }
  },
  {
   "cell_type": "code",
   "execution_count": 110,
   "outputs": [],
   "source": [
    "#for tpd in samples['tweets per day'].unique():\n",
    "#    print(samples[samples['tweets per day']==tpd].count())"
   ],
   "metadata": {
    "collapsed": false
   }
  },
  {
   "cell_type": "code",
   "execution_count": 113,
   "outputs": [
    {
     "data": {
      "text/plain": "     tweets per day  percentage\n3                 1    0.229011\n0                 2    0.212546\n1                 3    0.123146\n4                 4    0.082052\n11                5    0.051027\n..              ...         ...\n58              121    0.000136\n116             253    0.000136\n76              311    0.000136\n110             624    0.000136\n8              1060    0.000136\n\n[120 rows x 2 columns]",
      "text/html": "<div>\n<style scoped>\n    .dataframe tbody tr th:only-of-type {\n        vertical-align: middle;\n    }\n\n    .dataframe tbody tr th {\n        vertical-align: top;\n    }\n\n    .dataframe thead th {\n        text-align: right;\n    }\n</style>\n<table border=\"1\" class=\"dataframe\">\n  <thead>\n    <tr style=\"text-align: right;\">\n      <th></th>\n      <th>tweets per day</th>\n      <th>percentage</th>\n    </tr>\n  </thead>\n  <tbody>\n    <tr>\n      <th>3</th>\n      <td>1</td>\n      <td>0.229011</td>\n    </tr>\n    <tr>\n      <th>0</th>\n      <td>2</td>\n      <td>0.212546</td>\n    </tr>\n    <tr>\n      <th>1</th>\n      <td>3</td>\n      <td>0.123146</td>\n    </tr>\n    <tr>\n      <th>4</th>\n      <td>4</td>\n      <td>0.082052</td>\n    </tr>\n    <tr>\n      <th>11</th>\n      <td>5</td>\n      <td>0.051027</td>\n    </tr>\n    <tr>\n      <th>...</th>\n      <td>...</td>\n      <td>...</td>\n    </tr>\n    <tr>\n      <th>58</th>\n      <td>121</td>\n      <td>0.000136</td>\n    </tr>\n    <tr>\n      <th>116</th>\n      <td>253</td>\n      <td>0.000136</td>\n    </tr>\n    <tr>\n      <th>76</th>\n      <td>311</td>\n      <td>0.000136</td>\n    </tr>\n    <tr>\n      <th>110</th>\n      <td>624</td>\n      <td>0.000136</td>\n    </tr>\n    <tr>\n      <th>8</th>\n      <td>1060</td>\n      <td>0.000136</td>\n    </tr>\n  </tbody>\n</table>\n<p>120 rows × 2 columns</p>\n</div>"
     },
     "execution_count": 113,
     "metadata": {},
     "output_type": "execute_result"
    }
   ],
   "source": [
    "present_tpd = samples['tweets per day'].unique().tolist()\n",
    "all_tpd = dist_df['tweets per day'].unique().tolist()\n",
    "diff_tpd = list(set(present_tpd).symmetric_difference(set(all_tpd)))\n",
    "dist_df = dist_df.sort_values('percentage', ascending=False)\n",
    "dist_df"
   ],
   "metadata": {
    "collapsed": false
   }
  },
  {
   "cell_type": "code",
   "execution_count": 114,
   "outputs": [
    {
     "data": {
      "text/plain": "    user id tweets per day\n0    uR5971              1\n1    uR1442              1\n2    uR6316              1\n3    uR5041              1\n4    uR4991              1\n..      ...            ...\n598  uR2621             67\n599  uR3759             72\n600  uR5979             60\n601  uR4627             90\n602  uR3248             77\n\n[603 rows x 2 columns]",
      "text/html": "<div>\n<style scoped>\n    .dataframe tbody tr th:only-of-type {\n        vertical-align: middle;\n    }\n\n    .dataframe tbody tr th {\n        vertical-align: top;\n    }\n\n    .dataframe thead th {\n        text-align: right;\n    }\n</style>\n<table border=\"1\" class=\"dataframe\">\n  <thead>\n    <tr style=\"text-align: right;\">\n      <th></th>\n      <th>user id</th>\n      <th>tweets per day</th>\n    </tr>\n  </thead>\n  <tbody>\n    <tr>\n      <th>0</th>\n      <td>uR5971</td>\n      <td>1</td>\n    </tr>\n    <tr>\n      <th>1</th>\n      <td>uR1442</td>\n      <td>1</td>\n    </tr>\n    <tr>\n      <th>2</th>\n      <td>uR6316</td>\n      <td>1</td>\n    </tr>\n    <tr>\n      <th>3</th>\n      <td>uR5041</td>\n      <td>1</td>\n    </tr>\n    <tr>\n      <th>4</th>\n      <td>uR4991</td>\n      <td>1</td>\n    </tr>\n    <tr>\n      <th>...</th>\n      <td>...</td>\n      <td>...</td>\n    </tr>\n    <tr>\n      <th>598</th>\n      <td>uR2621</td>\n      <td>67</td>\n    </tr>\n    <tr>\n      <th>599</th>\n      <td>uR3759</td>\n      <td>72</td>\n    </tr>\n    <tr>\n      <th>600</th>\n      <td>uR5979</td>\n      <td>60</td>\n    </tr>\n    <tr>\n      <th>601</th>\n      <td>uR4627</td>\n      <td>90</td>\n    </tr>\n    <tr>\n      <th>602</th>\n      <td>uR3248</td>\n      <td>77</td>\n    </tr>\n  </tbody>\n</table>\n<p>603 rows × 2 columns</p>\n</div>"
     },
     "execution_count": 114,
     "metadata": {},
     "output_type": "execute_result"
    }
   ],
   "source": [
    "needed_tpd = []\n",
    "counter = n_depression-len(samples['user id'].unique())\n",
    "for tpd in dist_df['tweets per day'].unique():\n",
    "    if tpd in diff_tpd and counter > 0:\n",
    "        counter = counter - 1\n",
    "        tmp_df = pairs_df[pairs_df['tweets per day']==tpd]\n",
    "        sampled_tmp_df = tmp_df.sample(n=1, random_state=42)\n",
    "        samples = samples._append(sampled_tmp_df, ignore_index=True)\n",
    "samples"
   ],
   "metadata": {
    "collapsed": false
   }
  },
  {
   "cell_type": "code",
   "execution_count": 115,
   "outputs": [],
   "source": [
    "samples.to_csv('sampled_ids')"
   ],
   "metadata": {
    "collapsed": false
   }
  },
  {
   "cell_type": "code",
   "execution_count": 129,
   "outputs": [],
   "source": [
    "#df with columns user 0-n with timestamps as row values for each user column\n",
    "#depression tweets\n",
    "dt = pd.read_csv(\"data/depression_tweets.tsv\", sep=\"\\t\", index_col=\"tweet_id\")\n",
    "dt[\"created_at\"] = pd.to_datetime(dt[\"created_at\"])\n",
    "\n",
    "#sample tweets\n",
    "st = pd.read_csv(\"data/sample_tweets.tsv\", sep=\"\\t\", index_col=\"tweet_id\")\n",
    "st[\"created_at\"] = pd.to_datetime(st[\"created_at\"])\n",
    "\n",
    "samples = pd.read_csv('sampled_ids')\n",
    "\n",
    "data = {}\n",
    "labels = []\n",
    "for user in dt.user_id.unique():\n",
    "    tmp = dt[dt['user_id'] == user]\n",
    "    tweet_list = tmp['created_at'].map(lambda datetime: int(round(datetime.timestamp()))).to_numpy()\n",
    "    data.update({''+user+'': tweet_list})\n",
    "    labels.append(1)\n",
    "\n",
    "for user in samples['user id'].unique():\n",
    "    tmp = st[st['user_id'] == user]\n",
    "    tweet_list = tmp['created_at'].map(lambda datetime: int(round(datetime.timestamp()))).to_numpy()\n",
    "    data.update({''+user+'': tweet_list})\n",
    "    labels.append(0)\n",
    "\n",
    "df_data = pd.DataFrame(dict([(key, pd.Series(value)) for key, value in data.items()]))\n",
    "df_labels = pd.DataFrame(labels)\n",
    "df_data.to_csv('new_sampled_data_int_trans.csv')\n",
    "df_labels.to_csv('new_sampled_data_int_trans_labels.csv')"
   ],
   "metadata": {
    "collapsed": false
   }
  },
  {
   "cell_type": "code",
   "execution_count": 156,
   "outputs": [
    {
     "name": "stdout",
     "output_type": "stream",
     "text": [
      "(964, 3222)\n",
      "(242, 3222)\n"
     ]
    }
   ],
   "source": [
    "data = pd.read_csv('new_sampled_data_int_trans.csv')\n",
    "labels = pd.read_csv('new_sampled_data_int_trans_labels.csv')\n",
    "data = data.transpose()\n",
    "data = data.drop(['Unnamed: 0'])\n",
    "labels = labels.drop(columns=['Unnamed: 0'])\n",
    "data.index = range(0, len(data.index))\n",
    "data.sort_index()\n",
    "data = data.fillna(0)\n",
    "y_train, y_test, X_train, X_test = temporal_train_test_split(labels,data, test_size=0.2)\n",
    "print(X_train.shape)\n",
    "print(X_test.shape)"
   ],
   "metadata": {
    "collapsed": false
   }
  },
  {
   "cell_type": "code",
   "execution_count": 157,
   "outputs": [
    {
     "name": "stdout",
     "output_type": "stream",
     "text": [
      "(964, 3222)\n",
      "(1, 20000)\n"
     ]
    },
    {
     "name": "stderr",
     "output_type": "stream",
     "text": [
      "C:\\Users\\99mor\\PycharmProjects\\phaseUnlocking\\venv\\lib\\site-packages\\sklearn\\linear_model\\_ridge.py:1182: DataConversionWarning: A column-vector y was passed when a 1d array was expected. Please change the shape of y to (n_samples, ), for example using ravel().\n",
      "  y = column_or_1d(y, warn=True)\n"
     ]
    },
    {
     "data": {
      "text/plain": "RidgeClassifierCV(alphas=array([1.00000000e-03, 4.64158883e-03, 2.15443469e-02, 1.00000000e-01,\n       4.64158883e-01, 2.15443469e+00, 1.00000000e+01, 4.64158883e+01,\n       2.15443469e+02, 1.00000000e+03]))",
      "text/html": "<style>#sk-container-id-10 {color: black;background-color: white;}#sk-container-id-10 pre{padding: 0;}#sk-container-id-10 div.sk-toggleable {background-color: white;}#sk-container-id-10 label.sk-toggleable__label {cursor: pointer;display: block;width: 100%;margin-bottom: 0;padding: 0.3em;box-sizing: border-box;text-align: center;}#sk-container-id-10 label.sk-toggleable__label-arrow:before {content: \"▸\";float: left;margin-right: 0.25em;color: #696969;}#sk-container-id-10 label.sk-toggleable__label-arrow:hover:before {color: black;}#sk-container-id-10 div.sk-estimator:hover label.sk-toggleable__label-arrow:before {color: black;}#sk-container-id-10 div.sk-toggleable__content {max-height: 0;max-width: 0;overflow: hidden;text-align: left;background-color: #f0f8ff;}#sk-container-id-10 div.sk-toggleable__content pre {margin: 0.2em;color: black;border-radius: 0.25em;background-color: #f0f8ff;}#sk-container-id-10 input.sk-toggleable__control:checked~div.sk-toggleable__content {max-height: 200px;max-width: 100%;overflow: auto;}#sk-container-id-10 input.sk-toggleable__control:checked~label.sk-toggleable__label-arrow:before {content: \"▾\";}#sk-container-id-10 div.sk-estimator input.sk-toggleable__control:checked~label.sk-toggleable__label {background-color: #d4ebff;}#sk-container-id-10 div.sk-label input.sk-toggleable__control:checked~label.sk-toggleable__label {background-color: #d4ebff;}#sk-container-id-10 input.sk-hidden--visually {border: 0;clip: rect(1px 1px 1px 1px);clip: rect(1px, 1px, 1px, 1px);height: 1px;margin: -1px;overflow: hidden;padding: 0;position: absolute;width: 1px;}#sk-container-id-10 div.sk-estimator {font-family: monospace;background-color: #f0f8ff;border: 1px dotted black;border-radius: 0.25em;box-sizing: border-box;margin-bottom: 0.5em;}#sk-container-id-10 div.sk-estimator:hover {background-color: #d4ebff;}#sk-container-id-10 div.sk-parallel-item::after {content: \"\";width: 100%;border-bottom: 1px solid gray;flex-grow: 1;}#sk-container-id-10 div.sk-label:hover label.sk-toggleable__label {background-color: #d4ebff;}#sk-container-id-10 div.sk-serial::before {content: \"\";position: absolute;border-left: 1px solid gray;box-sizing: border-box;top: 0;bottom: 0;left: 50%;z-index: 0;}#sk-container-id-10 div.sk-serial {display: flex;flex-direction: column;align-items: center;background-color: white;padding-right: 0.2em;padding-left: 0.2em;position: relative;}#sk-container-id-10 div.sk-item {position: relative;z-index: 1;}#sk-container-id-10 div.sk-parallel {display: flex;align-items: stretch;justify-content: center;background-color: white;position: relative;}#sk-container-id-10 div.sk-item::before, #sk-container-id-10 div.sk-parallel-item::before {content: \"\";position: absolute;border-left: 1px solid gray;box-sizing: border-box;top: 0;bottom: 0;left: 50%;z-index: -1;}#sk-container-id-10 div.sk-parallel-item {display: flex;flex-direction: column;z-index: 1;position: relative;background-color: white;}#sk-container-id-10 div.sk-parallel-item:first-child::after {align-self: flex-end;width: 50%;}#sk-container-id-10 div.sk-parallel-item:last-child::after {align-self: flex-start;width: 50%;}#sk-container-id-10 div.sk-parallel-item:only-child::after {width: 0;}#sk-container-id-10 div.sk-dashed-wrapped {border: 1px dashed gray;margin: 0 0.4em 0.5em 0.4em;box-sizing: border-box;padding-bottom: 0.4em;background-color: white;}#sk-container-id-10 div.sk-label label {font-family: monospace;font-weight: bold;display: inline-block;line-height: 1.2em;}#sk-container-id-10 div.sk-label-container {text-align: center;}#sk-container-id-10 div.sk-container {/* jupyter's `normalize.less` sets `[hidden] { display: none; }` but bootstrap.min.css set `[hidden] { display: none !important; }` so we also need the `!important` here to be able to override the default hidden behavior on the sphinx rendered scikit-learn.org. See: https://github.com/scikit-learn/scikit-learn/issues/21755 */display: inline-block !important;position: relative;}#sk-container-id-10 div.sk-text-repr-fallback {display: none;}</style><div id=\"sk-container-id-10\" class=\"sk-top-container\"><div class=\"sk-text-repr-fallback\"><pre>RidgeClassifierCV(alphas=array([1.00000000e-03, 4.64158883e-03, 2.15443469e-02, 1.00000000e-01,\n       4.64158883e-01, 2.15443469e+00, 1.00000000e+01, 4.64158883e+01,\n       2.15443469e+02, 1.00000000e+03]))</pre><b>In a Jupyter environment, please rerun this cell to show the HTML representation or trust the notebook. <br />On GitHub, the HTML representation is unable to render, please try loading this page with nbviewer.org.</b></div><div class=\"sk-container\" hidden><div class=\"sk-item\"><div class=\"sk-estimator sk-toggleable\"><input class=\"sk-toggleable__control sk-hidden--visually\" id=\"sk-estimator-id-10\" type=\"checkbox\" checked><label for=\"sk-estimator-id-10\" class=\"sk-toggleable__label sk-toggleable__label-arrow\">RidgeClassifierCV</label><div class=\"sk-toggleable__content\"><pre>RidgeClassifierCV(alphas=array([1.00000000e-03, 4.64158883e-03, 2.15443469e-02, 1.00000000e-01,\n       4.64158883e-01, 2.15443469e+00, 1.00000000e+01, 4.64158883e+01,\n       2.15443469e+02, 1.00000000e+03]))</pre></div></div></div></div></div>"
     },
     "execution_count": 157,
     "metadata": {},
     "output_type": "execute_result"
    }
   ],
   "source": [
    "rocket = Rocket()\n",
    "rocket.fit(X_train)\n",
    "print(X_train.shape)\n",
    "X_train_transform = rocket.transform(X_train)\n",
    "print(X_train_transform.shape)\n",
    "classifier = RidgeClassifierCV(alphas=np.logspace(-3,3,10))\n",
    "classifier.fit(X_train, y_train)"
   ],
   "metadata": {
    "collapsed": false
   }
  },
  {
   "cell_type": "code",
   "execution_count": 158,
   "outputs": [
    {
     "name": "stdout",
     "output_type": "stream",
     "text": [
      "(242, 3222)\n",
      "(1, 20000)\n",
      "(242, 3222)\n"
     ]
    },
    {
     "data": {
      "text/plain": "0.49173553719008267"
     },
     "execution_count": 158,
     "metadata": {},
     "output_type": "execute_result"
    }
   ],
   "source": [
    "print(X_test.shape)\n",
    "X_test_transform = rocket.transform(X_test)\n",
    "print(X_test_transform.shape)\n",
    "X_test = X_test.replace(-float('inf'), -sys.float_info.min)\n",
    "print(X_test.shape)\n",
    "classifier.score(X_test, y_test)"
   ],
   "metadata": {
    "collapsed": false
   }
  },
  {
   "cell_type": "code",
   "execution_count": null,
   "outputs": [],
   "source": [],
   "metadata": {
    "collapsed": false
   }
  }
 ],
 "metadata": {
  "kernelspec": {
   "display_name": "Python 3",
   "language": "python",
   "name": "python3"
  },
  "language_info": {
   "codemirror_mode": {
    "name": "ipython",
    "version": 2
   },
   "file_extension": ".py",
   "mimetype": "text/x-python",
   "name": "python",
   "nbconvert_exporter": "python",
   "pygments_lexer": "ipython2",
   "version": "2.7.6"
  }
 },
 "nbformat": 4,
 "nbformat_minor": 0
}
