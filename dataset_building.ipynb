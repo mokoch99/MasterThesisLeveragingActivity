version https://git-lfs.github.com/spec/v1
oid sha256:bfda307e7788802e3a4931749baa44ab8c7617894cc136f4c9b2606e60fc06ed
size 1194408
