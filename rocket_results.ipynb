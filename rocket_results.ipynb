version https://git-lfs.github.com/spec/v1
oid sha256:75a0b1b5f31cf218aca07d0ebdd77e621fa6e8dc3ee4ce438df8ed77fbc93782
size 114447
